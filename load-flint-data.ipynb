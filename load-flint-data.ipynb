{
 "cells": [
  {
   "cell_type": "code",
   "execution_count": null,
   "metadata": {
    "collapsed": false
   },
   "outputs": [],
   "source": [
    "import functools\n",
    "import numpy as np\n",
    "import pandas\n",
    "\n",
    "\n",
    "def add_bottle_id_column(data, key_name):\n",
    "    data['bottleID'] = np.repeat(key_name, data.shape[0])\n",
    "    return data\n",
    "\n",
    "def load_flint_water_data():\n",
    "    flint_water_data = pandas.read_excel(\n",
    "        io = \"https://github.com/ComputationalModeling/flint-water-data/raw/f6093bba145b1745b68bac2964b341fa30f3a08a/Flint%20Lead%20Kits%20ICP%20Data.xlsx\",\n",
    "        sheetname = [\n",
    "            \"Sub_B1-8.15\",\n",
    "            \"Sub_B2-8.15\",\n",
    "            \"Sub_B3-8.15\",\n",
    "            \"Sub_B1-3.16\",\n",
    "            \"Sub_B2-3.16\",\n",
    "            \"Sub_B3-3.16\",\n",
    "            \"Sub_B1-7.16\",\n",
    "            \"Sub_B2-7.16\",\n",
    "            \"Sub_B3-7.16\"],\n",
    "        header = 0,\n",
    "        skiprows = 3,\n",
    "        names = [\n",
    "            \"Sample\",\n",
    "            \"208Pb\",\n",
    "            \"\",\n",
    "            \"23Na\",\n",
    "            \"25Mg\",\n",
    "            \"27Al\",\n",
    "            \"28Si\",\n",
    "            \"31P\",\n",
    "            \"PO4\",\n",
    "            \"34S\",\n",
    "            \"35Cl\",\n",
    "            \"39K\",\n",
    "            \"43Ca\",\n",
    "            \"47Ti\",\n",
    "            \"51V\",\n",
    "            \"52Cr\",\n",
    "            \"54Fe\",\n",
    "            \"55Mn\",\n",
    "            \"59Co\",\n",
    "            \"60Ni\",\n",
    "            \"65Cu\",\n",
    "            \"66Zn\",\n",
    "            \"75As\",\n",
    "            \"78Se\",\n",
    "            \"88Sr\",\n",
    "            \"95Mo\",\n",
    "            \"107Ag\",\n",
    "            \"111Cd\",\n",
    "            \"112Sn\",\n",
    "            \"137Ba\",\n",
    "            \"238U\"\n",
    "        ]    \n",
    "    )\n",
    "    data_with_id = [\n",
    "    add_bottle_id_column(value, key)\n",
    "        for key, value\n",
    "        in flint_water_data.items()]\n",
    "    # collapse dataframes into one long dataframe\n",
    "    flint_water_data = functools.reduce(lambda x,y: x.append(y), data_with_id)\n",
    "    return flint_water_data\n"
   ]
  },
  {
   "cell_type": "code",
   "execution_count": null,
   "metadata": {
    "collapsed": false
   },
   "outputs": [],
   "source": [
    "x = load_flint_water_data()\n",
    "x.head()\n",
    "x.tail()"
   ]
  }
 ],
 "metadata": {
  "anaconda-cloud": {},
  "kernelspec": {
   "display_name": "Python [Root]",
   "language": "python",
   "name": "Python [Root]"
  },
  "language_info": {
   "codemirror_mode": {
    "name": "ipython",
    "version": 3
   },
   "file_extension": ".py",
   "mimetype": "text/x-python",
   "name": "python",
   "nbconvert_exporter": "python",
   "pygments_lexer": "ipython3",
   "version": "3.5.2"
  }
 },
 "nbformat": 4,
 "nbformat_minor": 0
}
